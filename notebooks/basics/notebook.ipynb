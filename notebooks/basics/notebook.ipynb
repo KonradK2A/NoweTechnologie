{
 "metadata": {
  "language_info": {
   "codemirror_mode": {
    "name": "ipython",
    "version": 3
   },
   "file_extension": ".py",
   "mimetype": "text/x-python",
   "name": "python",
   "nbconvert_exporter": "python",
   "pygments_lexer": "ipython3",
   "version": "3.8.0-final"
  },
  "orig_nbformat": 2,
  "kernelspec": {
   "name": "python3",
   "display_name": "Python 3.8.0 64-bit",
   "metadata": {
    "interpreter": {
     "hash": "645f5c37208834a29e3656dea293d1c7be59154e39495bef2a4889cee3968b1a"
    }
   }
  }
 },
 "nbformat": 4,
 "nbformat_minor": 2,
 "cells": [
  {
   "source": [
    "\n",
    "# Python 3.8 notebook - podstawy pythona do matury rozszerzonej z informatyki\n",
    "\n",
    "Poniższy notatnik działa trochę jak konsola języka python - wpisanie print() nie zawsze jest konieczne a poszczególne bloki mogą być wykonywane w dowolnej kolejności, co nie oznacza, że program w nich zapisany nie wywoła błędu jeśli przez przypadek uruchomimy go od końca, ale na potrzeby tego notatnika postaram się zapisywać każde ćwiczenie / demonstrację jako jeden blok, który jest niezależny od poprzedniego (nie oznacza to jednak, że będzie należał do innego rodziału bądź części). Należy pamiętać też, że Python nie jest kompilowany a interpretowany!<br>\n",
    "Można dowolnie edytować kod, komentować jego fragmenty, zmieniać wartości zmiennych itp. lecz jedynie w celu nauki i eksperymentów we własnym zakresie. Można też kliknąc znaczek plusa (w VSCode) w lewym dolnym rogu każdego fragmentu kodu aby dodać własne miejsce na wpisanie swoich notatek lub eksperymentów. Poradnik dotyczy składni języka Python 3.8, a nie technik programowania i logiki pisania skryptów. <br>\n",
    "\n",
    "## Rozdziały:\n",
    "1. Zmienne\n",
    "1. Funkcja print()\n",
    "1. Funkcja input(), konwersja zmiennych\n",
    "1. Operacje matematyczne\n",
    "1. Napisy\n",
    "1. Warunki - instrukcje warunkowe\n",
    "1. Struktury danych\n",
    "1. Pętla for\n",
    "1. Pętla while\n",
    "1. Krótko o błędach\n",
    "1. Funkcje\n",
    "1. Funkcje wbudowane\n",
    "1. Operacje na plikach\n",
    "1. Dodatkowe funkcje python (dla bardziej zaawansowanych)\n",
    "1. Gotowe algorytmy\n",
    "### Autor: Konrad Kihan"
   ],
   "cell_type": "markdown",
   "metadata": {}
  },
  {
   "source": [
    "# 1. Zmienne\n",
    "\n",
    "W pythonie wyróżniamy typy zmiennych:\n",
    "int (liczba całkowita)\n",
    "float (liczba zmiennoprzecinkowa)\n",
    "str (napis)\n",
    "bool (True/False)\n",
    "\n",
    "Zmienną definiujemy: nazwa = wartość\n",
    "Nazwa może zawierać litery, cyfry, znak '_', ale musi zaczynać się literą i nie może zaczynać się od cyfry\n",
    "Aby sprawdzić typ zmiennej używamy funkcji type()"
   ],
   "cell_type": "markdown",
   "metadata": {}
  },
  {
   "cell_type": "code",
   "execution_count": null,
   "metadata": {},
   "outputs": [],
   "source": [
    "pierwsza = 1   \n",
    "print(f\"Zmienna jest typu {type(pierwsza)}\")\n",
    "\n",
    "drugaZmienna = \"2\"\n",
    "print(f\"Zmienna jest typu {type(drugaZmienna)}\")  # co tu się stało? Otóż COKOLWIEK zapisanego w cudzysłowiach będzie napisem - niezależnie od zawartości\n",
    "\n",
    "napis = \"abc\"\n",
    "print(f\"Zmienna jest typu {type(napis)}\")\n",
    "\n",
    "trzy_i_pol = 3.5\n",
    "print(f\"Zmienna jest typu {type(trzy_i_pol)}\")\n",
    "\n",
    "prawda = True\n",
    "print(f\"Zmienna jest typu {type(prawda)}\")"
   ]
  },
  {
   "source": [
    "# 2. Funkcja print()\n",
    "\n",
    "Funkcja zajmuje się wypisaniem informacji na ekran, wystarczy między nawiasy wpisać oczekiwaną zawartość. <br>\n",
    "print() domyślnie kończy tekst 'enterem', który w pythonie oznaczany jest jako **'\\n'** (newline)"
   ],
   "cell_type": "markdown",
   "metadata": {}
  },
  {
   "cell_type": "code",
   "execution_count": null,
   "metadata": {},
   "outputs": [],
   "source": [
    "print(\"Prosty napis\") # ten napis zostanie po prostu wypisany na ekran\n",
    "print(\"Kolejny\", \"napis\", \"kilka\", \"wartości\", 123)  # a ten zostanie napisany zaraz pod nim"
   ]
  },
  {
   "source": [
    "Jednakże możemy modyfikować to, czym zakończymy naszą linijkę tekstu - służy do tego parametr **'end'**"
   ],
   "cell_type": "markdown",
   "metadata": {}
  },
  {
   "cell_type": "code",
   "execution_count": null,
   "metadata": {},
   "outputs": [],
   "source": [
    "print(\"Trzeci napis\", end=\" \")  # spacja jako wartość parametru 'end' sprawi że print() poniżej wypisze swoją zawartośc w tej samej linijce\n",
    "print(\"Napis obok tego trzeciego\")"
   ]
  },
  {
   "source": [
    "Innym parametrem, istotnym dla print(), będącym tym opcjonalnym jest **'sep'** który tak oddzieli różne wartości w print() (patrz druga linijka) podanym znakiem (domyślnie spacja)"
   ],
   "cell_type": "markdown",
   "metadata": {}
  },
  {
   "cell_type": "code",
   "execution_count": null,
   "metadata": {},
   "outputs": [],
   "source": [
    "print(\"Oddzielne\", \"wartości\", sep=\", \")\n",
    "print(\"667\", 825, \"015\", sep=\"-\")\n"
   ]
  },
  {
   "source": [
    "Możliwości, które daje nam print możemy łączyć. Na przykład:"
   ],
   "cell_type": "markdown",
   "metadata": {}
  },
  {
   "cell_type": "code",
   "execution_count": null,
   "metadata": {},
   "outputs": [],
   "source": [
    "print(\"Mój numer\", \"telefonu to, \\n667\", \"824\", \"014\", end=\"! \", sep=\"\\t\")  # '\\t' to tabulator - logika tak jak przy enterze '\\n'\n",
    "print(\"Zadzwonisz\", \"do\", \"mnie\", end=\"?\\n\", sep=\"--\")"
   ]
  },
  {
   "source": [
    "W print() możemy wypisać także zmienne - wystarczy wpisać ją między nawiasy. Co jeśli chcemy jednak wpisać tekst, a między niego zmienne?\n",
    "Do tego służy nam **f-string**"
   ],
   "cell_type": "markdown",
   "metadata": {}
  },
  {
   "cell_type": "code",
   "execution_count": null,
   "metadata": {},
   "outputs": [],
   "source": [
    "x = \"zmienne\"\n",
    "y = 123\n",
    "print(f\"Dodajemy {x} do napisu w print - to proste jak {y}!!\")"
   ]
  },
  {
   "source": [
    "# 3. Funkcja input(), konwersja zmiennych\n",
    "Funkcja - jak sama nazwa wskazuje - wczytywać dane od użytkownika. Typem danych jaki jest zapisywany do zmiennej jest napis niezależnie od wpisywanej treści. Działanie funkcji jest bardzo proste:"
   ],
   "cell_type": "markdown",
   "metadata": {}
  },
  {
   "cell_type": "code",
   "execution_count": null,
   "metadata": {},
   "outputs": [],
   "source": [
    "x = input()\n",
    "print(x)"
   ]
  },
  {
   "source": [
    "Można używać tej funkcji z pewnym modyfikatorem - napisem, który może podpowiadać co należy wpisać. Na przykład:"
   ],
   "cell_type": "markdown",
   "metadata": {}
  },
  {
   "cell_type": "code",
   "execution_count": null,
   "metadata": {},
   "outputs": [],
   "source": [
    "y = input(\"Wpisz swoje imię:\")\n",
    "print(f\"Witaj {y}!\")"
   ]
  },
  {
   "source": [
    "Co jednak jeśli chcemy wpisać jakąś inną wartość - przykładowo liczbę zmiennoprzecinkową, albo całkowitą? Wtedy należy użyć funkcji ``float()`` albo ``int()``. W ten sposób dokonamy konwersji zmiennej. (Istnieją także funkcje `str()`, `bool()`.) Funkcje te jednak nie obsługują błędów."
   ],
   "cell_type": "markdown",
   "metadata": {}
  },
  {
   "cell_type": "code",
   "execution_count": null,
   "metadata": {},
   "outputs": [],
   "source": [
    "z = float(input(\"Wpisz długość boku kwadratu: \")) # w ten sposób konwertujemy\n",
    "print(z**2)\n",
    "\n",
    "z2 = input(\"Wpisz długośc boku kwadratu: (znowu)\")\n",
    "int(z2)     # alterantywna konwersja\n",
    "print(z2**2)"
   ]
  },
  {
   "source": [
    "## Konwersja zmiennych\n",
    "Funkcja int() umożliwa nam szybką konwersję z dowolnego systemu liczbowego na dziesiątkowy. Jedyne co potrzeba to parametru _base_ a nasza liczba musi być napisem:"
   ],
   "cell_type": "markdown",
   "metadata": {}
  },
  {
   "cell_type": "code",
   "execution_count": null,
   "metadata": {},
   "outputs": [],
   "source": [
    "binary = \"1010110110101\"\n",
    "octal = \"34217\"\n",
    "nonal = \"8746\"\n",
    "hexadecimal = \"23AAC\"\n",
    "print(int(binary, base=2))\n",
    "print(int(octal, base=8))\n",
    "print(int(nonal, base=9))\n",
    "print(int(hexadecimal, base=16))"
   ]
  },
  {
   "source": [
    "Istnieje bardzo prosty sposób na proces odwrotny do tego powyżej - konwersja z dziesiątkowego systemu liczbowego na wybrany. W takim wypadku liczba będzie miała dodatkowy prefix oznaczającego jej system liczbowy - ``0b`` dla dwójkowego, ``0o`` dla ósemkowego i ``0x`` dla szesnastkowego."
   ],
   "cell_type": "markdown",
   "metadata": {}
  },
  {
   "cell_type": "code",
   "execution_count": null,
   "metadata": {},
   "outputs": [],
   "source": [
    "a = 1235\n",
    "print(bin(a))\n",
    "print(oct(a))\n",
    "print(hex(a))"
   ]
  },
  {
   "source": [
    "# 4. Operacje matematyczne\n",
    "\n",
    "Python obsługuje operacje matematyczne oraz kolejność działań.\n"
   ],
   "cell_type": "markdown",
   "metadata": {}
  },
  {
   "cell_type": "code",
   "execution_count": null,
   "metadata": {},
   "outputs": [],
   "source": [
    "x = 2\n",
    "y = 25\n",
    "z = 30\n",
    "# poniżej zostaje wykonane JEDYNIE wypisanie wyniku, a nie przypisanie go do zmiennej\n",
    "print(x + y)    # dodawanie\n",
    "print(z - y)    # odejmowanie\n",
    "print(z * y)    # mnożenie\n",
    "print(z / y)    # dzielenie\n",
    "print(z // y)   # dzielenie bez reszty\n",
    "print(z ** x)   # potęgowanie\n",
    "print(z % y)    # reszta z dzielenia (modulo)\n",
    "print(x + y * z)    # kilka operacji w odpowiedniej kolejności"
   ]
  },
  {
   "source": [
    "## Skrócone operacje matematyczne \n",
    "\n",
    "W Pythonie nie ma tzw. iteracji (i++), ale jest inny sposób na wykonywanie operacji matematycznych"
   ],
   "cell_type": "markdown",
   "metadata": {}
  },
  {
   "cell_type": "code",
   "execution_count": null,
   "metadata": {},
   "outputs": [],
   "source": [
    "x = 2\n",
    "y = 25\n",
    "z = 30\n",
    "# poniżej musimy przypisać wynik do zmiennej przed jego wypisaniem\n",
    "x += y  # to samo co x = x + y\n",
    "y -= z  # to samo co y = y - z\n",
    "z *= y  # to samo co z = z * y\n",
    "print(f\"Wyniki to:\", x, y, z, sep=\"\\n\\t\")"
   ]
  },
  {
   "source": [
    "\n",
    "# 5. Napisy\n",
    "Python oferuje całą masę operacji na napisach, które mogą przydać się na maturze. Każdy napis ma typ 'str', oraz jest 'immutable' to znaczy, że wykonując na nim jakąś operację MUSIMY przypisać jej wynik do zmiennej aby ją zapisać.\n",
    "Do ich prezentacji potrzebować będziemy tych dwóch napisów wyjściowych. \n",
    "\n",
    "Napisy w pythonie możemy do siebie dodawać oraz mnożyć przez LICZBY CAŁKOWITE. Na przykład:\n"
   ],
   "cell_type": "markdown",
   "metadata": {}
  },
  {
   "cell_type": "code",
   "execution_count": null,
   "metadata": {},
   "outputs": [],
   "source": [
    "napis = \"Ala ma kotka a kot ma Alę\"\n",
    "hej = \"Hej\"\n",
    "\n",
    "hej10 = hej * 10\n",
    "print(hej10)\n",
    "\n",
    "dwa_napisy = napis + hej    # to samo co 'napis += hej'\n",
    "print(dwa_napisy)"
   ]
  },
  {
   "source": [
    "W języku python istnieje również opcja wycinania fragmentów napisów. Robi się to za pomocą nawiasów kwadratowych '[]' pomiędzy które wpisuje się odpowiednie indeksy (napisy indeksujemy od zera - jak wszystko) według schematu. <br> \n",
    "\n",
    "Co więcej napisy są indeksowane w dwie strony, więc indeksy tego słowa prezentują się następująco: <br>\n",
    "```\n",
    "0      1       2       3       4        5       6       7       8       9       10      11      12\n",
    "P      r       o       g       r        a       m       o       w       a       n       i       e\n",
    "-13   -12     -11     -10     -9       -8      -7      -6      -5      -4      -3      -2      -1\n",
    "```\n",
    "A indeksowane \"do tyłu\" wygląda analogicznie"
   ],
   "cell_type": "markdown",
   "metadata": {}
  },
  {
   "cell_type": "code",
   "execution_count": null,
   "metadata": {},
   "outputs": [],
   "source": [
    "napis = \"Ala ma kotka a kot ma Alę\"\n",
    "print(napis[4])     # samotna cyfra - literka ukrywająca się pod danym indexem\n",
    "print(napis[5:])    # cyfra + ':' - indeks od którego mamy zacząć wycinanie do końca\n",
    "print(napis[:9])    # ':' + cyfra - indeks do którego mamy zakończyć wycinanie (NIE WLICZAJĄC GO!)\n",
    "print(napis[2:9:2]) # od indexu 2 do co drugą literkę\n",
    "print(napis[::-1])  # od początku do końca (puste miejsca właśnie to oznaczają), ale od tyłu! (gdyby zamiast -1 wstawić -2 byłoby od końca co drugą literkę!)\n",
    "## Warto poeksperymentować! ##"
   ]
  },
  {
   "source": [
    "## Najważniejsze i najprzydatniejsze metody napisów\n",
    "\n",
    "Pozwoliłem sobie zmienić watości zmiennych 'napis' i 'hej' aby lepiej pasowały do eksperymentów\n",
    "Oczywiście to nie koniec możliwości pythona - metod przewidzianych dla napisów jest sporo (https://docs.python.org/3.8/library/stdtypes.html#textseq), jednak tutaj przedstawione są tylko te najważniejsze.\n"
   ],
   "cell_type": "markdown",
   "metadata": {}
  },
  {
   "cell_type": "code",
   "execution_count": null,
   "metadata": {},
   "outputs": [],
   "source": [
    "napis = \"ala ma kotka a kot ma alę\"\n",
    "hej = \"HeJkA\"\n",
    "cos = \"     Witam wszystkich Bardzo Serdecznie  \"\n",
    "\n",
    "\n",
    "### NOTE: aby wyświetlić działanie konkretnej metody należy samodzielnie użyź instrukcji print()  ###\n",
    "\n",
    "n1 = napis.capitalize()     # zamienia pierwszy  znak napisu na wielką literę\n",
    "\n",
    "n2 = napis.count(\"a\")     # zwraca ile razy podana wartośc występuje w napisie\n",
    "\n",
    "n3 = hej.endswith(\"z\")  # zwraca True|False zależnie od tego czy napis kończy się podaną wartością\n",
    "\n",
    "n4 = hej.startswith(\"H\")    # zwraca True|False zależnie od tego czy napis zaczyna się podaną wartością\n",
    "\n",
    "n5 = cos.strip()    # usuwa znaki białe z początku i końca napisu (alternatywne metody: 'lstrip' - z lewej, 'rstrip' - z prawej)\n",
    "\n",
    "n6 = napis.index(\"m\")   # znajduje pierwsze wystąpienie podanego znaku\n",
    "\n",
    "n7 = napis.replace(\"a\", \"4\")    # zwraca napis z zamienionymi wartościami .replace(stare, nowe)\n",
    "\n",
    "n8 = napis.split()  # rozdziela napis na listę (struktura danych python), przyjmuje dodatkowy parametr 'sep' - określający separator - domyślnie spacja\n",
    "\n",
    "n9 = hej.upper()    # zwraca napis ze wszystkimi elementami WIELKIMI LITERAMI\n",
    "\n",
    "n10 = hej.lower()   # zwraca napis ze wszystkimi elementami małymi literami\n",
    "\n",
    "n11 = hej.swapcase()    # zamienia WIELKIE litery na małe oraz małe na WIELKIE\n",
    "\n",
    "\n",
    "### Strefa eksperymentów 😉 ###\n",
    "print(n1)\n"
   ]
  },
  {
   "source": [
    "# 6. Warunki - instrukcje warunkowe\n",
    "Porównywanie i warunki to podstawowa funkcja każdego języka.\n",
    "W pythonie - podobnie jak w innych językach instrukcja jest jedno, dwu, trzy lub więcej poziomowa. <br>\n",
    "Jej podstawowa konstrukcja to: <br>\n",
    "```python\n",
    "if warunek:\n",
    "    instrukcje...\n",
    "elif warunek2:\n",
    "    instrukcje...\n",
    "else:\n",
    "    instrukcje...\n",
    "```\n",
    "``if`` odpowiada za warunek główny <br>\n",
    "``elif`` jest opcjonalne - to połączenie else oraz if - jeśli if nie jest poprawne sprawdzane są wszystkie zapisane opcje elif - od góry do dołu (python nie ma instrukcji switch więc jest to również jej alternatywa) <br>\n",
    "``else`` jako jedyny nie przyjmuje warunków - jeśli żadna powyższa opcja nie zostanie wykonana odczytywane są instrukcje z else. Nie jest obowiązkowy w pełnej konstrukcji if-a <br>\n",
    "<br>\n",
    "Nie widać tutaj również żadnych nawiasów klamrowych '{}'\n",
    "### W pythonie bloki kodu określane są wcięciami w kodzie. Według normy PEP-8 są to 4 spacje czyli jeden tabulator. \n",
    "Oczywiście w bloku kodu umieścić można dowolnie wiele instrukcji - tak długo jak będziemy utrzymywać odpowiednią ilość wcięć, które wyznaczają tak zwany blok kodu. Co ważne - nie może być on pusty. Jeśli już instukcja if|elif|else lub inna operacja wymagająca bloku kodu zostanie wpisana musimy ją czymś wypełnić. Jeśli nie wiemy czym - może się przydać tutaj słowo kluczowe `pass` - które robi dosłownie nic. <br>\n",
    "Również do zapisania warunków nie są wymagane '()', ale są dozwolone. <br> \n",
    "\n",
    "## Operatory porównania:\n",
    "``==`` - równe <br>\n",
    "``>`` - większe <br>\n",
    "``<`` - mniejsze <br>\n",
    "``>=`` - większe lub równe <br>\n",
    "``<=`` - mniejsze lub równe <br>\n",
    "``!=`` - różne <br>\n",
    "``not`` - zaprzeczenie <br>\n",
    "Czas rzucić okiem na kilka przykładów praktycznych: ``aby było możliwe wykonanie instrukcji poniżej musi zostac najpierw wykonany blok z definicjami, potem dopiero instrukcje warunkowe``\n"
   ],
   "cell_type": "markdown",
   "metadata": {}
  },
  {
   "cell_type": "code",
   "execution_count": null,
   "metadata": {},
   "outputs": [],
   "source": [
    "# definujemy nasze zmienne, które będą nam potrzebne\n",
    "a = 10\n",
    "b = 20\n",
    "c = 35\n",
    "nap1 = \"pierwszy napis\"\n",
    "nap2 = \"napis pierwszy\"\n",
    "nap3 = \"cośtam cośtam\""
   ]
  },
  {
   "cell_type": "code",
   "execution_count": null,
   "metadata": {},
   "outputs": [],
   "source": [
    "if a + 25 == 34:\n",
    "    print(\"To jest za mało!\")\n",
    "elif a + 25 == 36:\n",
    "    print(\"To jest za dużo!\")\n",
    "elif a + 25 == 35:\n",
    "    print(\"Idealnie\")\n",
    "else:\n",
    "    print(\"To tutaj się nie wykona!\")"
   ]
  },
  {
   "cell_type": "code",
   "execution_count": null,
   "metadata": {},
   "outputs": [],
   "source": [
    "if nap1 == nap2:\n",
    "    print(\"Te napisy są równe\")\n",
    "else:\n",
    "    print(\"Te napisy nie są równe\")"
   ]
  },
  {
   "cell_type": "code",
   "execution_count": null,
   "metadata": {},
   "outputs": [],
   "source": [
    "if c != a:\n",
    "    print(\"Różne!\")\n",
    "else:\n",
    "    print(\"Cooo???\")"
   ]
  },
  {
   "cell_type": "code",
   "execution_count": null,
   "metadata": {},
   "outputs": [],
   "source": [
    "if b+a <= c:\n",
    "    print(\"Prawda to!\")\n",
    "elif b+a == 30:\n",
    "    print(\"To tez jest prawda, ALE wykonała się już instrukcja powyżej, więc ta nie będzie sprawdzana\")\n",
    "else:\n",
    "    print(\"Kłamstwo!\")\n",
    "print(\"To wykona się tak czy siak!\")"
   ]
  },
  {
   "source": [
    "Podczas tworzenia warunków bardzo ważne są również operatory logiczne - ``and`` oraz ``or``. W przypadku tego pierwszego - każdy zapisany warunek musi zostać spełniony, w przypadku tego drugiego - przynajmniej jeden. Operatory logiczne można łączyć, do tego przydają się nawiasy."
   ],
   "cell_type": "markdown",
   "metadata": {}
  },
  {
   "cell_type": "code",
   "execution_count": null,
   "metadata": {},
   "outputs": [],
   "source": [
    "if a == 10 and b == 25:\n",
    "    print(\"Tylko jedno to prawda\")\n",
    "else:\n",
    "    print(\"Puff!\")"
   ]
  },
  {
   "cell_type": "code",
   "execution_count": null,
   "metadata": {},
   "outputs": [],
   "source": [
    "if a == 10 or b == 25:\n",
    "    print(\"To zadziała\")\n",
    "else:\n",
    "    print(\"!!!\")"
   ]
  },
  {
   "cell_type": "code",
   "execution_count": null,
   "metadata": {},
   "outputs": [],
   "source": [
    "if (a == 10 and b == 20) or (a + b == c or c - 10 == b) and (a != b + c and c * 2 == 60):\n",
    "    print(\"To długi i bardziej skomplikowany warunek\")\n",
    "else:\n",
    "    print(\"Jaki będzie jego wynik??\")"
   ]
  },
  {
   "source": [
    "# 7. Struktury danych\n",
    "\n",
    "## W pythonie występują następujące (podstawowe) struktury danych:\n",
    "1. Listy\n",
    "1. Tuple\n",
    "1. Słowniki\n",
    "1. Set-y\n",
    "\n",
    "Najważniejsze na maturze mogą okazać się jednak listy oraz set-y. <br> \n",
    "Poniżej zostaną omówione i przedstawione wszystkie cztery struktury danych."
   ],
   "cell_type": "markdown",
   "metadata": {}
  },
  {
   "source": [
    "## 7.1 Listy\n",
    "Lista w języku python jest oznaczana nawiasami kwadratowymi (``nazwa = []``) i może przechowywać dowolny typ danych w (jak na standardy maturalne) nieograniczonej ilości. Jest typem **mutable**, więc nie trzeba każdej zmiany zapisywać od nowa do zmiennej. <br>\n",
    "Dzięki temu, że nie trzeba definiować typu zmiennych jaki przechowuje lista ani ich rozmiaru praca z tymi strukturami jest banalnie prosta. Oto przykłady różnych poprawnie stworzonych list:"
   ],
   "cell_type": "markdown",
   "metadata": {}
  },
  {
   "cell_type": "code",
   "execution_count": null,
   "metadata": {},
   "outputs": [],
   "source": [
    "lst1 = []\n",
    "lst2 = [1, 2, 3, 4, 5]\n",
    "lst3 = [1, \"dwa\", 3, \"cztery\", lst2]"
   ]
  },
  {
   "source": [
    "Lista ``lst3`` przechowuje na przykład zarówno integery, stringi jak i inną listę. <br>\n",
    "Po utworzeniu listy mamy możliwość dostania się do jej konkretnego elementu. Każde indeksowanie w pythonie następuje od 0. Odczytywanie danych z listy wygląda podobnie jak wycinanie napisów, a sprawdzanie wartości elementu listy w liście jest również bardzo podobne do innych języków programowania."
   ],
   "cell_type": "markdown",
   "metadata": {}
  },
  {
   "cell_type": "code",
   "execution_count": null,
   "metadata": {},
   "outputs": [],
   "source": [
    "### Aby przykłady działały należy uruchomić najpierw poprzedni fragment kodu!\n",
    "print(lst2[2])  # element o indeksie 2 \n",
    "print(lst2[2:-1])   # od elementu indeksowanego 2 do przedostatniego\n",
    "print(lst3[4])  # lista w liście uznawana jest jako jeden element\n",
    "print(lst3[4][3])   # element o indeksie 3 z listy w liście pod indeksem 4"
   ]
  },
  {
   "source": [
    "Listy oczywiście posiadają własne metody. Pozwalają one na podstawową pracę z nimi. Wszystkio o strukturach danych można znaleźć tutaj: https://docs.python.org/3.8/tutorial/datastructures.html\n",
    "## Najważniejsze i najprzydatniejsze operacje na listach"
   ],
   "cell_type": "markdown",
   "metadata": {}
  },
  {
   "cell_type": "code",
   "execution_count": null,
   "metadata": {},
   "outputs": [],
   "source": [
    "# definiujemy listy\n",
    "lst = [1, 2, 3, 4, 5, 6]\n",
    "lst2 = [1, \"dwa\", 3, \"cztery\", 5]\n",
    "\n",
    "print(f\"Przed:\\n{lst}\\n{lst2}\\n\")     # przed\n",
    "\n",
    "\n",
    "lst.append(6)   # doda oczekwiany element na koniec listy\n",
    "lst.sort()      # sortuje listę jeśli to możliwe, przyjmuje dodatkowy parametr\n",
    "lst2.count(\"dwa\")     # liczy ile elementów w liście ma podaną wartość\n",
    "lst2.remove(\"dwa\")    # usuwa pierwszy napotkany element o podanej wartości\n",
    "lst2.index(\"cztery\")  # zwraca indeks danego elementu (pierwszy z lewej)\n",
    "lst2.insert(3, \"sześć\")  # wstawia zadany element na zadaną pozycję (pozycja, element)\n",
    "del lst2[-3]     # usuwa element o podanym indeksie z listy\n",
    "\n",
    "print(f\"Po:\\n{lst}\\n{lst2}\")     # po\n",
    "\n",
    "lst.clear()     # czyści listę"
   ]
  },
  {
   "source": [
    "Sortowanie list - może wydawać się na początku nieco dziwne - można bowiem posortować listę napisów - alfabetycznie lub integerów od najmniejszego do największego (lub gdy wpiszemy ``list.sort(reverse=true)`` - w kolejności odwrotnej), ale nie możemy posortować listy mającej różne typy danych, nawet jeśli jej elementy to `[2, \"4\", 1, \"5\", 3]` <br>\n",
    "Łączenie list jest bardzo proste - można użyć metody `extend()`, ale można też te dwie listy dodać"
   ],
   "cell_type": "markdown",
   "metadata": {}
  },
  {
   "cell_type": "code",
   "execution_count": null,
   "metadata": {},
   "outputs": [],
   "source": [
    "lst1 = [\"a\", \"b\", \"c\"]\n",
    "lst2 = [1, 2, 3]\n",
    "\n",
    "lst4 = lst1 + lst2\n",
    "print(f\"Lista 4 to: {lst4}\")\n",
    "\n",
    "lst1.extend(lst2)\n",
    "print(f\"Nowa lista 1 to: {lst1}\")"
   ]
  },
  {
   "source": [
    "Jak sprawdzić, czy jakiś element jest w liście? Do tego potrzebny będzie warunek ``if`` oraz słowo kluczowe ``in``"
   ],
   "cell_type": "markdown",
   "metadata": {}
  },
  {
   "cell_type": "code",
   "execution_count": null,
   "metadata": {},
   "outputs": [],
   "source": [
    "lst1 = [\"a\", \"b\", \"c\"]\n",
    "if \"b\" in lst1:\n",
    "    print(\"Yes, it is in list\")\n",
    "\n",
    "if \"f\" in lst1:\n",
    "    print(\"You added it? Didn't you?\")\n",
    "else:\n",
    "    print(\"404 not found\")\n",
    "\n",
    "if \"g\" not in lst1:\n",
    "    print(\"There is no such element in this list.\")\n",
    "else:\n",
    "    \"You added it? Am I right?\""
   ]
  },
  {
   "source": [
    "### Jedną z najważniejszych funkcji na jakichkolwiek ciągach danych w pythonie (napisy, listy, słowniki, tuple itp.) jest sprawdzenie długości za pomocą ``len()``"
   ],
   "cell_type": "markdown",
   "metadata": {}
  },
  {
   "cell_type": "code",
   "execution_count": null,
   "metadata": {},
   "outputs": [],
   "source": [
    "lst = ['a', 'b', 'c', 1, 2, 3]\n",
    "len(lst)"
   ]
  },
  {
   "source": [
    "## 7.2 Tuple\n",
    "Tuple są bardzo podobne do list, lecz różnią się funkcjonalnością - nie można modyfikować ich zawartości. Definiuje się je nawiasami okrągłymi - `()`. <br>\n",
    "Tuple co prawda mają kilka przydatnych do codziennego programowania funkcje (na przykład pakowanie), ale na maturze można obejść się bez nich i rozwiązywać zadania na listach. Jedyne metody tupli to:"
   ],
   "cell_type": "markdown",
   "metadata": {}
  },
  {
   "cell_type": "code",
   "execution_count": null,
   "metadata": {},
   "outputs": [],
   "source": [
    "tpl1 = (1, 2, \"3\", \"4\", 5, 6, 5)\n",
    "\n",
    "tpl1.count(5)    # zlicza ilosć elementów w tuplu \n",
    "tpl1.index(\"3\")  # zwraca indeks danego elementu"
   ]
  },
  {
   "source": [
    "## 7.3 Słowniki\n",
    "Może to wydawać się dziwne, ale słowniki w Pythonie działają jak słowniki - jest klucz i jest jego wartość. <br>\n",
    "Słownik definiujemy nawiasami klamrowymi - `{}`, a w środku wpisujemy zawartość w schemacie `key:value`. \n",
    "Warto pamiętać że słowniki są uporządkowane dopiero od wersji Python 3.7!\n",
    "### Elementy w słowniku muszą być unikatowe. Duplikaty są niedozwolone!\n",
    "Aby wypisać słownik jako całość wystarczy zwykłe ``print(nazwa)`` lecz jeśli chcemy dostać się do jakiejś wartości potrzebujemy podać jej klucz - ``nazwa[klucz]``, jeśli chcemy możemy użyć też metody - ``nazwa.get(\"klucz\")`` - to jest to samo."
   ],
   "cell_type": "markdown",
   "metadata": {}
  },
  {
   "cell_type": "code",
   "execution_count": null,
   "metadata": {},
   "outputs": [],
   "source": [
    "dct = {\n",
    "    \"dog\":\"pies\",\n",
    "    \"cat\":\"kot\",\n",
    "    \"fish\":\"ryba\",\n",
    "    \"horse\":\"koń\"\n",
    "}\n",
    "print(dct[\"cat\"])\n",
    "print(dct.get(\"fish\"))"
   ]
  },
  {
   "source": [
    "Jeśli naszym zamysłem jest otrzymanie listy kluczy słownika używamy metody ``keys()`` a jeśli wartości to metody ``values()``. Zwróconym typem danych jest lista."
   ],
   "cell_type": "markdown",
   "metadata": {}
  },
  {
   "cell_type": "code",
   "execution_count": null,
   "metadata": {},
   "outputs": [],
   "source": [
    "dct2 = {\n",
    "    \"snake\":\"wąż\",\n",
    "    \"hamster\":\"chomik\",\n",
    "    \"pig\":\"świnia\"\n",
    "}\n",
    "print(f\"{dct.keys()}\\n\\n\"\\\n",
    "    f\"{dct.values()}\")\n"
   ]
  },
  {
   "source": [
    "Słowniki pozwalają zarówno na modyfikacje zawartości jak i na dodawanie nowych i usuwanie starych. <br>\n",
    "Zarówno edytowanie jak i dodawanie wartości można wykonać poprzez przypisanie znakiem `=` albo metodą `update()`. <br>"
   ],
   "cell_type": "markdown",
   "metadata": {}
  },
  {
   "cell_type": "code",
   "execution_count": null,
   "metadata": {},
   "outputs": [],
   "source": [
    "dct3 = {\n",
    "    \"sleeve\":\"rękaw\",\n",
    "    \"boots\":\"buty\",\n",
    "    \"cap\":\"czapka\",\n",
    "    \"dress\":\"dres\",\n",
    "    \"skirt\":\"suknia\"\n",
    "}\n",
    "# edytowanie elementów:\n",
    "dct3[\"dress\"] = \"sukienka\"\n",
    "dct3.update({\"skirt\":\"spódniczka\"})\n",
    "\n",
    "# dodawanie elementów:\n",
    "dct3[\"socks\"] = \"skapety\"\n",
    "dct3[\"trousers\"] = \"spodnie\""
   ]
  },
  {
   "source": [
    "Usuwanie elementów ze słownika przebiega za pomocą metody `pop()` kiedy usuwany jest zadany klkucz wraz z wartością lub `popitem()` - usuwające (dla pythona 3.7+) ostatni dodany elementów. Uwaga! Słowo kluczone `del` z list usuwa cały słownik!"
   ],
   "cell_type": "markdown",
   "metadata": {}
  },
  {
   "cell_type": "code",
   "execution_count": null,
   "metadata": {},
   "outputs": [],
   "source": [
    "dct4 = {\n",
    "    \"Sebastian\":\"Vettel\",\n",
    "    \"Lewis\":\"Hamilton\",\n",
    "    \"Charles\":\"Leclerc\",\n",
    "    \"Sergio\":\"Checo\"\n",
    "}\n",
    "dct4.pop(\"Lewis\")\n",
    "dct4.popitem()"
   ]
  },
  {
   "source": [
    "## 7.4 Set\n",
    "Set to po prostu zestaw danych - kolejność w jakiej zwracane i zapisane są sety jest w pewnym sensie losowe. Set definiujemy tymi samymi nawiasami klamrowymi co słownik ``{}`` ale wartości wpisujemy bez kluczy - tak jak w listach. Kiedy set jest utworzony nie można zmieniać wartości umieszczonych w nim, ale można dodawać nowe.\n",
    "### Set nie przyjmuje duplikatów\n"
   ],
   "cell_type": "markdown",
   "metadata": {}
  },
  {
   "cell_type": "code",
   "execution_count": null,
   "metadata": {},
   "outputs": [],
   "source": [
    "set1 = {\"cinco\", \"seis\", \"siete\", \"ocho\"}\n",
    "len(set1)"
   ]
  },
  {
   "source": [
    "Sety posiadają proste metody, które umożliwiają operację na nich. Nie są one tak skomplikowane jak w przypadku słowników więc zamieszczone zostaną w jednym przykładzie wraz z krótkim komentarzem.\n",
    "\n",
    "## Najważniejsze metody w set:"
   ],
   "cell_type": "markdown",
   "metadata": {}
  },
  {
   "cell_type": "code",
   "execution_count": null,
   "metadata": {},
   "outputs": [],
   "source": [
    "set2 = {\"uno\", \"dos\", \"tres\", \"cuatro\"}\n",
    "set3 = {\"uno\", \"due\", \"tre\", \"quattro\"}\n",
    "set2.add(\"cinco\")   # dodawanie zadanego elementu\n",
    "set2.difference(set3)   # zwraca różnice między setami\n",
    "set2.union(set3)    # łączenie setów\n",
    "\n",
    "set2.add(\"cinco\")     # pomimo ponownego dodania piątki do setu - będzie ona występowała tylko raz"
   ]
  },
  {
   "source": [
    "Jeśli chodzi o podstawy podstawowych zbiorów w pythonie to jest wszystko. Gratulacje czytelniku(czytelniczko) - dobrnąłeś(aś) daleko i przeżyłeś(aś) nawet autora uporczywie i konsekwentnie kaleczącego język polski nietłumacząc tupla jako krotki i setu jako zbioru."
   ],
   "cell_type": "markdown",
   "metadata": {}
  },
  {
   "source": [
    "# 8. Pętla for\n",
    "Pętla for w języku python znacznie różni się od tych w innych językach, zamiast znanego z PhP czy Javy ``for(i=0; i<=n; i++)`` mamy coś, co bardziej przypomina pętlę 'foreach' z tych języków - ``for i in range|element:`` - różnica polega na tym, że jeśli iterujemy po elementach listy to nasze _i_ nie jest numerem ineksu, ale dokładnie tym elementem. Aby _i_ było indeksem trzeba zastosować pewną sztuczkę, która będzie w dalszej części przedstawiona. <br>\n",
    "Iterować możemy po listach, krotkach (tuplach!) i innych zbiorach danych bez problemu w taki sam sposób. <br>\n",
    "> W przykładach będą wykorzystane zbiory danych / struktury z poniższej komórki kodu, którą należy uruchomić przed wykonianiem kodu."
   ],
   "cell_type": "markdown",
   "metadata": {}
  },
  {
   "cell_type": "code",
   "execution_count": null,
   "metadata": {},
   "outputs": [],
   "source": [
    "list10 = [\"one\", \"two\", \"three\", \"four\", \"five\", \"six\", \"seven\", \"eight\"]\n",
    "dict10 =  {\n",
    "    \"sleeve\":\"rękaw\",\n",
    "    \"boots\":\"buty\",\n",
    "    \"cap\":\"czapka\",\n",
    "    \"dress\":\"dres\",\n",
    "    \"skirt\":\"suknia\"\n",
    "}\n",
    "set10 = {\"uno\", \"dos\", \"tres\", \"cuatro\"}\n",
    "string10 = \"some simple text here\""
   ]
  },
  {
   "source": [
    "Tutaj prosta iteracja z wypisaniem elementów:"
   ],
   "cell_type": "markdown",
   "metadata": {}
  },
  {
   "cell_type": "code",
   "execution_count": null,
   "metadata": {},
   "outputs": [],
   "source": [
    "for i in list10:\n",
    "    print(i)"
   ]
  },
  {
   "source": [
    "A jak dostać się do konkretnego elementu listy otrzymując indeks? Przyda się poznana wcześniej funkcja ``len()`` oraz nowość funkcja ``range(start, stop, step)`` - o takiej konstrukcji, gdzie jedynie parametr _stop_ jest obowiązkowy, _start_ domyślnie jest równy 0, a _step_ równa się 1."
   ],
   "cell_type": "markdown",
   "metadata": {}
  },
  {
   "cell_type": "code",
   "execution_count": null,
   "metadata": {},
   "outputs": [],
   "source": [
    "for i in range(len(list10)):\n",
    "    print(f\"Indeks to: {i}, a jego element to: {list10[i]}\")"
   ]
  },
  {
   "source": [
    "Jednak, na takie operowanie indeksami w tym samym momencie co elementami jest nieco \"schludniejsza\" metoda - jest nią funkcja `enumerate()`"
   ],
   "cell_type": "markdown",
   "metadata": {}
  },
  {
   "cell_type": "code",
   "execution_count": null,
   "metadata": {},
   "outputs": [],
   "source": [
    "for i, j in enumerate(list10):\n",
    "    print(f\"Indeks to: {i}, a jego element to: {j}\")"
   ]
  },
  {
   "source": [
    "Iteracja po słownikach jest bardzo podobna do tej w listach, ale mamy kilka więcej możliwości - wszystkie przedstawione poniżej. <br>\n",
    "Jeśłi chcemy wypisać wszystkie nazwy kluczy możemy to zrobić na dwa sposoby:"
   ],
   "cell_type": "markdown",
   "metadata": {}
  },
  {
   "cell_type": "code",
   "execution_count": null,
   "metadata": {},
   "outputs": [],
   "source": [
    "for i in dict10:\n",
    "    print(i)"
   ]
  },
  {
   "source": [
    "lub"
   ],
   "cell_type": "markdown",
   "metadata": {}
  },
  {
   "cell_type": "code",
   "execution_count": null,
   "metadata": {},
   "outputs": [],
   "source": [
    "for i in dict10.keys():\n",
    "    print(i)"
   ]
  },
  {
   "source": [
    "Podobnie - jeśli chcemy iterować po wartościach słownika można to zrobić tak:"
   ],
   "cell_type": "markdown",
   "metadata": {}
  },
  {
   "cell_type": "code",
   "execution_count": null,
   "metadata": {},
   "outputs": [],
   "source": [
    "for i in dict10:\n",
    "    print(dict1[i])"
   ]
  },
  {
   "source": [
    "lub tak:"
   ],
   "cell_type": "markdown",
   "metadata": {}
  },
  {
   "cell_type": "code",
   "execution_count": null,
   "metadata": {},
   "outputs": [],
   "source": [
    "for i in dict10.values():\n",
    "    print(i)"
   ]
  },
  {
   "source": [
    "Jeśli chcemy iterować po zbiorze (set) - robimy to tak samo jak na liście, z wyłączeniem iteracji po indeksach, ponieważ sety ich nie mają (sa nieuporządkowane!):"
   ],
   "cell_type": "markdown",
   "metadata": {}
  },
  {
   "cell_type": "code",
   "execution_count": null,
   "metadata": {},
   "outputs": [],
   "source": [
    "for i in set10:\n",
    "    print(i)"
   ]
  },
  {
   "source": [
    "Warto wiedzieć, że zmienna będąca iteratorem nie musi być _i_ a czymkolwiek - w przykładach tak zostało zapisane, ponieważ ta literka od zawsze jest uznawana za zmienną *i*teracyjną. Jeśli nam wygodniej możemy wstawić tam dowolne słowo spełniające przesłanki zmiennej. <br>\n",
    "Trzeba również pamiętać, że iterator i zmienna to dwie różne rzeczy dla naszego interpretera, więc w poniższa sytuacja może mieć dość niespodziewany wynik:"
   ],
   "cell_type": "markdown",
   "metadata": {}
  },
  {
   "cell_type": "code",
   "execution_count": null,
   "metadata": {},
   "outputs": [],
   "source": [
    "for i in range(len(list10)):\n",
    "    print(i)\n",
    "    i += 5\n",
    "    print(i)    # jednak tak długo jak nie będziemy mieszać z iteratorami jako zmiennymi nie trzeba sobie tym zaprzątać głowy i w sumie można o tym niepamiętać ;)"
   ]
  },
  {
   "source": [
    "Mamy też możliwość iterowania po napisach. W tym wypadku będziemy \"przeskakiwać\" po kolejnych znakach napisu"
   ],
   "cell_type": "markdown",
   "metadata": {}
  },
  {
   "cell_type": "code",
   "execution_count": null,
   "metadata": {},
   "outputs": [],
   "source": [
    "for i in string10:\n",
    "    if i == \"e\":\n",
    "        print(\"Litera e\")\n",
    "    else:\n",
    "        print(i)"
   ]
  },
  {
   "source": [
    "Pętle w pythonie mają dwa bardzo ważne słowa kluczowe - ``continue``, po którego wystąpieniu interpreter \"wraca\" na początek bloku kodu i pomija wszystko pod tym słowem kluczowym oraz ``break``, które przerywa natychmiast działanie pętli i wychodzi z bloku kodu."
   ],
   "cell_type": "markdown",
   "metadata": {}
  },
  {
   "cell_type": "code",
   "execution_count": null,
   "metadata": {},
   "outputs": [],
   "source": [
    "for i in list10:\n",
    "    print(\"To się wykona zawsze\")\n",
    "    if i == \"four\" or i == \"seven\":\n",
    "        print(\"Lecimy od początku\")\n",
    "        continue\n",
    "    print(\"To nie zawsze się wykona\")"
   ]
  },
  {
   "cell_type": "code",
   "execution_count": null,
   "metadata": {},
   "outputs": [],
   "source": [
    "for i in list10:\n",
    "    print(\"To się wykona zawsze\")\n",
    "    if i == \"three\":\n",
    "        print(\"I koniec!\")\n",
    "        break\n",
    "    print(\"To nie zawsze się wykona\")"
   ]
  },
  {
   "source": [
    "# 9. Pętla while\n",
    "Pętla while jest zdecydowanie bardziej konwencjonalną pętlą w stosunku do innych języków. Jej składnia to ``while warunek:`` i wykonuje się tak długo jak warunek zostanie spełniony.\n",
    "Pętla może być zarówno nieskończona (``while True:``) jak i trzeba uważać, gdy interpreter nigdy nie wykona kodu pętli (``while False:``). Zwyczajowo nie używa się jej do iteracji po zbiorach danych. Różnica w zastosowaniu pętli while oraz for polega na tym, że tej drugiej używamy, kiedy z grubsza wiemy ile razy ma zakończyć się iteracja pętli, w przypadku while - nie zawsze mamy nawet w intencji wychodzić z pętli lub nie wiemy kiedy powinniśmy z niej wyjść. <br> \n",
    "W tym typie pętli - również można wykorzystać ``break`` i ``continue``. <br> Jako, że wejście do pętli definiują warunki - \n",
    "Należy pamiętać - nie ma tutaj domyślnie zdefniowanego iteratora (trzeba to zrobić ręcznie) i zawsze jest on jest liczbą całkowitą _int_. "
   ],
   "cell_type": "markdown",
   "metadata": {}
  },
  {
   "cell_type": "code",
   "execution_count": null,
   "metadata": {},
   "outputs": [],
   "source": [
    "i = 10\n",
    "while i < 100:\n",
    "    print(i)\n",
    "    i += 19"
   ]
  },
  {
   "cell_type": "code",
   "execution_count": null,
   "metadata": {},
   "outputs": [],
   "source": [
    "while True:\n",
    "    imie = input(\"Podaj polskie imię żeńskie: \")\n",
    "    if imie.capitalize()[-1] == \"a\":\n",
    "        break\n",
    "print(\"OK\")"
   ]
  },
  {
   "cell_type": "code",
   "execution_count": null,
   "metadata": {},
   "outputs": [],
   "source": [
    "i = 0\n",
    "while i < 31:\n",
    "    print(\"XX\")\n",
    "    i += 2\n",
    "    if i % 3 == 0 or i % 4 == 0:\n",
    "        continue\n",
    "    print(\"Y\")"
   ]
  },
  {
   "source": [
    "# 10. Ktrótko o błędach\n",
    "Czasem zdarza się tak, że program albo nie działa poprawnie, albo użytkownik wpisuje błędne dane. Trzeba umeć odczytywać takie błędy oraz im zapobiegać. Na przykład tutaj - int() bedzie próbowało skonwertować napis, którego nie da się przekształcić na typ _int_:"
   ],
   "cell_type": "markdown",
   "metadata": {}
  },
  {
   "cell_type": "code",
   "execution_count": null,
   "metadata": {},
   "outputs": [],
   "source": [
    "dane = \"sfgjbndfgjk\"\n",
    "int(dane)"
   ]
  },
  {
   "source": [
    "Wyświetli się tak zwany `ValueError` - błąd wartości. Miało być krótko, więc  o większej ilości błędów można poczytać tutaj - https://docs.python.org/3.8/library/exceptions.html <br>\n",
    "Jak więc możemy mu zapobiec? Wykorzystując wyrażenia ``try|except``:"
   ],
   "cell_type": "markdown",
   "metadata": {}
  },
  {
   "cell_type": "code",
   "execution_count": null,
   "metadata": {},
   "outputs": [],
   "source": [
    "dane = \"fkgbdfgdfgxcfg\"\n",
    "try: \n",
    "    int(dane)\n",
    "except:\n",
    "    print(\"Nie da się kierowniku!\")"
   ]
  },
  {
   "source": [
    "Możemy też wyspecyfikować błąd jakiemu zapobiegamy i jakie akcje podejmujemy. Na przykład:"
   ],
   "cell_type": "markdown",
   "metadata": {}
  },
  {
   "cell_type": "code",
   "execution_count": null,
   "metadata": {},
   "outputs": [],
   "source": [
    "dane = \"fgbdgndfgdgh\"\n",
    "try: \n",
    "    int(dane)\n",
    "except TypeError:\n",
    "    print(\"Błąd typu\")\n",
    "except ValueError:\n",
    "    print(\"Błąd wartości\")\n",
    "except:\n",
    "    print(\"Jakiś inny nieprzewidziany błąd\")"
   ]
  },
  {
   "source": [
    "# 11. Funkcje"
   ],
   "cell_type": "markdown",
   "metadata": {}
  },
  {
   "source": [
    "Zasadniczo podstawa programowania zaraz po punktach od 1 do 10. Funkcje stanowią rdzeń programu i bez ich zrozumienia i znajomości nie powinno się iść dalej. <br>\n",
    "Więc - czym jest funkcja? To nic innego jak blok kodu, który możemy użyć wiele razy na różne sposoby. To instrukcja, która sama z siebie nic nie robi, ale wywołana - stanowi główne narzedzie podczas pracy\n",
    "## Funkcja jest jak przepis na zrobienie czegoś.\n",
    "Funkcję definujemy:\n",
    "``def nazwa(argumenty):``, argumenty są opcjonalne i zostaną omówione później. Jeśli funkcja nie przyjmuje żadnych - wtedy definicja moze wyglądać tak: ``def nazwa():``"
   ],
   "cell_type": "markdown",
   "metadata": {}
  },
  {
   "cell_type": "code",
   "execution_count": null,
   "metadata": {},
   "outputs": [],
   "source": [
    "def foo():\n",
    "    print(\"Hello world!\")"
   ]
  },
  {
   "source": [
    "Oto pierwsza funkcja jaką stworzyliśmy samodzielnie, jednak dlaczego nic nie pojawiło się na ekranie? Nie została ona bowiem wykonana. Poinformowaliśmy interpreter \"słuchaj - tutaj masz ten przepis, kiedy natrafisz na niego gdzieś w kodzie - użyj go\", ale nigdy później go nie użyliśmy."
   ],
   "cell_type": "markdown",
   "metadata": {}
  },
  {
   "cell_type": "code",
   "execution_count": null,
   "metadata": {},
   "outputs": [],
   "source": [
    "def boo():\n",
    "    print(\"Witaj świecie!\")\n",
    "\n",
    "boo()"
   ]
  },
  {
   "source": [
    "Czas przejść do czegoś bardziej zaawansowanego - argumenty. Aby funkcja osiągnęła pełnię możliwości możemy podać do niej jakieś argumenty, czyli na przykład zmienne, które będa wykonywane zawsze według tego samego przepisu. To jak gotowanie spagetti - jeśli jemy sami do garnka wrzucamy X makaronu i wlewamy Y ml wody, ale jeśli chcemy przygotować obiad dla trzech osób to wrzucamy 3X makaronu i proporcjonalnie 3Y ml wody. <br>\n",
    "Parametry możemy podawać na dwa sposoby - po kolei, lub dowolnie, ale opisując je odpowiednio."
   ],
   "cell_type": "markdown",
   "metadata": {}
  },
  {
   "cell_type": "code",
   "execution_count": null,
   "metadata": {},
   "outputs": [],
   "source": [
    "def pole_prostokąta(a, b):\n",
    "    y = a*b\n",
    "    print(f\"Pole to: {y}\")\n",
    "\n",
    "pole_prostokąta(10, 20)\n",
    "pole_prostokąta(5, 6.4)\n",
    "pole_prostokąta(b=19.11, a=3.21)"
   ]
  },
  {
   "source": [
    "Parametry w funkcji dzielimy na nazwane i nienazwane. Te drugie zostały ukazane powyżej - aby funkcja działała poprawnie musimy podać wszystkie parametry nienazwane. Te pierwsze - nazwane - natomiast nie są obowiązkowe. Jeśli nie zostaną podane to przyjmą predefiniowane wartości domyślne, a jeśli podamy je - ich wartości zostaną nadpisane."
   ],
   "cell_type": "markdown",
   "metadata": {}
  },
  {
   "cell_type": "code",
   "execution_count": null,
   "metadata": {},
   "outputs": [],
   "source": [
    "def pole_trojkata(a=10, h=5):\n",
    "    y = a*h/2\n",
    "    print(f\"Pole to: {y}\")\n",
    "\n",
    "pole_trojkata()\n",
    "pole_trojkata(20)   # tutaj definowany jest jedynie pierwszy parametr a\n",
    "pole_trojkata(h=16)\n",
    "pole_trojkata(15, 21)\n",
    "pole_trojkata(h=9, a=11)"
   ]
  },
  {
   "source": [
    "Skoro mamy możliwość definiowania funkcji i używania ich do obliczeń - należałoby użyć gdzieś tego wyniku, poza funkcją, gdzieś w innym miejscu programu:"
   ],
   "cell_type": "markdown",
   "metadata": {}
  },
  {
   "cell_type": "code",
   "execution_count": null,
   "metadata": {},
   "outputs": [],
   "source": [
    "def pole_kwadrat(a):\n",
    "    p = a**2\n",
    "\n",
    "pole_kwadrat(13)\n",
    "print(f\"Pole kwadratu to: {p}\")"
   ]
  },
  {
   "source": [
    "Pojawił się błąd:\n",
    "> NameError: name 'p' is not defined\n",
    "\n",
    "Co się stało? Przecież zdefiniowaliśmy już p. Problem w tym, że funkcje mają swoje \"ciała\" i zmienne zdefiniowane w tych funkcjach. \n",
    "### Jeśli chcemy skorzystać z naszego wyniku poza funkcją potrzebujemy wartość zwrócić!\n",
    "Do tego służy słowo kluczowe ``return``, któe jednocześnie kończy działanie funkcji, jeśli zostanie wykonane.\n",
    "### Zwrócenie wartości to nie to samo co jej wypisanie na ekran! Zwrócona wartość trafia do pamięci komputera!"
   ],
   "cell_type": "markdown",
   "metadata": {}
  },
  {
   "cell_type": "code",
   "execution_count": null,
   "metadata": {},
   "outputs": [],
   "source": [
    "def pole_kwadrat(a):\n",
    "    p = a**2\n",
    "    return p\n",
    "\n",
    "pole_kwadrat(13)\n",
    "print(f\"Pole kwadratu to: {p}\")"
   ]
  },
  {
   "source": [
    "Nadal nic? Otóż po zwróceniu musimy tę wartość jeszcze gdzies przypisać. Na przykład do zmiennej, ponieważ nie wystarczy jej zwrócić - musimy ją jeszcze przechować, lub zaprezentować."
   ],
   "cell_type": "markdown",
   "metadata": {}
  },
  {
   "cell_type": "code",
   "execution_count": null,
   "metadata": {},
   "outputs": [],
   "source": [
    "def pole_kwadrat(a):\n",
    "    p = a**2\n",
    "    return p\n",
    "\n",
    "zmienna = pole_kwadrat(13)\n",
    "print(f\"Pole kwadratu to: {zmienna}\")"
   ]
  },
  {
   "source": [
    "Alternatywnie można całośc skrócić do:"
   ],
   "cell_type": "markdown",
   "metadata": {}
  },
  {
   "cell_type": "code",
   "execution_count": null,
   "metadata": {},
   "outputs": [],
   "source": [
    "def pole_kwadrat(a):\n",
    "    return a**2\n",
    "\n",
    "print(f\"Pole kwadratu to: {pole_kwadrat(15)}\")"
   ]
  },
  {
   "source": [
    "Funkcje mają wiele zastosowań, poniżej kilka przykładów działania funkcji."
   ],
   "cell_type": "markdown",
   "metadata": {}
  },
  {
   "cell_type": "code",
   "execution_count": null,
   "metadata": {},
   "outputs": [],
   "source": [
    "def hello(name, age, language):\n",
    "    if language == \"pl\":\n",
    "        return f\"Cześć jestem {name} i mam {age}\"\n",
    "    elif language == \"en\":\n",
    "        return f\"I am {name}, I am {age}\"\n",
    "    else:\n",
    "        return f\"EEE??\"\n",
    "\n",
    "print(hello(\"Jan\", 18, \"pl\"))\n",
    "x = hello(\"Josh\", 25, \"en\")\n",
    "print(x)\n",
    "print(hello(\"Pablo\", 11, \"sp\"))"
   ]
  },
  {
   "source": [
    "# 12. Funkcje wbudowane\n",
    "Python oferuje wiele funkcji wbudowanych - poznaliśmy już na przykład `int()`, `print()`, `input()`, `type()`, `bin()` itd. Aby na maturze sprawnie operować językiem python należy poznać jeszcze kilka - tych najbardziej podstawowych. Pełna lista funkcji wbudowanych z ich pełnym objaśnieniem znajduje się w dokumentacji języka - https://docs.python.org/3.8/library/functions.html. Nie zostaną pokazane przykłady uzycia tych funkcji, lecz można samemu wypróbować ich działanie:\n",
    "\n",
    "1. `abs()` - zwraca wartość bezwzględną\n",
    "1. `list()` - konwersja na listę\n",
    "1. `max()` - zwraca wartość maksymalną z podanego zstawu danych (np. listy)\n",
    "1. `min()` - zwraca wartość minimalną z podanego zestawu danych (np. listy)\n",
    "1. `sum()` - zwraca sumę wartości z podanego zestawu danych\n",
    "1. `round()` - zwraca zaokrąglony wynik\n",
    "1. `ord()` - zwraca wartość UNICODE podanego znaku\n",
    "1. `chr()` - zwraca znak reprezentujący podaną wartość UNICODE\n",
    "1. `help()` - wpisane w konsoli pythona otwiera menu pomocy\n",
    "\n",
    "Co oznacza, że funkcja jest wbudowana - to znaczy, że nie trzeba dodawać (importować) dodatkowego modułu (biblioteki) aby z niej skorzystać. Na maturze nie ma możliwości używania modułów dodatkowych poza takimi jak np `math`, do którego dokumentacja znajduje się tutaj: https://docs.python.org/3.8/library/math.html. Moduł ze względu na swój rozmiar nie zostanie omówiony w tym poradniku. Funkcje na które warto zwrócić uwagę to np: `floor()`, `factorial()`, czy `ceil()` oraz `pi()`.\n"
   ],
   "cell_type": "markdown",
   "metadata": {}
  },
  {
   "source": [],
   "cell_type": "markdown",
   "metadata": {}
  },
  {
   "cell_type": "code",
   "execution_count": null,
   "metadata": {},
   "outputs": [],
   "source": [
    "### Miejsce na eksperymenty! ###\n",
    "print(sum([1, 10, 20, 40, 50, 60]))"
   ]
  },
  {
   "source": [
    "# 13. Operacje na plikach\n",
    "Na maturze dane wejściowe będa zapisane w pliku *.txt, co sprawia, że bezwzględnie należy umieć odczytywać i zapisywać takie pliki. Wykorzystuje się do tego combo funkcji `open()` i tzw. operatora `with`. Składnia polecenia to with `open(file, mode) as f:` Operator jest o tyle wygodny, że nie trzeba zamykać plku po jego użyciu - dzieje się to automatycznie. Co robimy w operatorze zostaje w operatorze. <br>\n",
    "File to oczywiście string z nazwą pliku i opcjonalnie ścieżką do niego. <br>\n",
    "Mode to tryb otwarcia pliku, jest ich kilka:\n",
    "1. `\"r\"` - read (domyślny) - czytaj\n",
    "1. `\"w\" - write - zapisz, jeśli plik ma zawartość zostanie ona nadpisna\n",
    "1. `\"a\"` - append - zapisz, jeśli plik ma zawartość dopisz do niej coś\n",
    "\n",
    "To te najbardziej podstawowe i potrzebne na maturę tryby. "
   ],
   "cell_type": "markdown",
   "metadata": {}
  },
  {
   "cell_type": "code",
   "execution_count": null,
   "metadata": {
    "tags": []
   },
   "outputs": [],
   "source": [
    "with open(\"file.txt\") as f:\n",
    "    a = f.readlines()   # plik odczytany i przechowany do zmiennej jako lista\n",
    "    b = f.read(30)    # odczytaj tylko n pierwszych znaków\n",
    "    c = f.readline()    # odcztaj tylko jedną linijkę"
   ]
  },
  {
   "cell_type": "code",
   "execution_count": null,
   "metadata": {},
   "outputs": [],
   "source": [
    "with open(\"file.txt\", \"a\") as f:\n",
    "    f.write(\"APPEND LINE!!!!!!!!!!!!\")"
   ]
  },
  {
   "source": [
    "Przykładowo tak możemy użyć naszych operacji na plikach:"
   ],
   "cell_type": "markdown",
   "metadata": {}
  },
  {
   "cell_type": "code",
   "execution_count": null,
   "metadata": {},
   "outputs": [],
   "source": [
    "def foo(file):\n",
    "    # otwieramy plik i wczytujemy dane\n",
    "    with open(file) as f:\n",
    "        lines = f.readlines()\n",
    "    # gdy sam plik nie jest potrzebny zamykamy go wraz z operatorem\n",
    "    n_lines = []\n",
    "    for line in lines:\n",
    "        if line.startswith(\"N\"):\n",
    "            n_lines.append(line)\n",
    "    return n_lines\n",
    "    \n",
    "x = foo(\"file.txt\")\n",
    "print(f\"W pliku {len(x)} linijek zaczęło się na N, a są to: {x}\")"
   ]
  },
  {
   "source": [
    "# 14. Dodatkowe funkcje python (dla bardziej zaawansowanych)\n",
    "Tutaj zostaną przedstawione sztuczki, jakimi można posłużyć się podczas programowania w języku Python i jeśli się je opanuje mogą pomóc w rozwiązywaniu zadań maturalnych."
   ],
   "cell_type": "markdown",
   "metadata": {}
  },
  {
   "source": [
    "Pierwszą rzeczą o jakiej warto wsponieć jest możliwośc tworzenia własnych kludzy dla metody `sort()`. Do tego potrzeba osobnej funkcji, która przyjmuje parametr będący elementem zbioru danych oraz zwraca jakąś wartość będącą liczbą  całkowitą - nowy klucz"
   ],
   "cell_type": "markdown",
   "metadata": {}
  },
  {
   "cell_type": "code",
   "execution_count": null,
   "metadata": {},
   "outputs": [],
   "source": [
    "def nowy_klucz(n):\n",
    "    return len(n)\n",
    "lista = [\"Ania\", \"Paweł\", \"Jarosław\", \"Konrad\", \"Robert\"]   # domyślnie posortowane alfabetycznie\\\n",
    "\n",
    "lista.sort(key=nowy_klucz)  # przy nowy_klucz nie dajemy nawiasów, bo nie chcemy funkcji wywoływać a jedynie stworzyć z niej klucz!"
   ]
  },
  {
   "cell_type": "code",
   "execution_count": null,
   "metadata": {},
   "outputs": [],
   "source": [
    "def nowy_klucz2(n):\n",
    "    return abs(n - 100)\n",
    "lista2 = [60, 90, 100, 130, 160, 200]\n",
    "lista2.sort(key=nowy_klucz2)\n",
    "\n",
    "print(lista2)"
   ]
  },
  {
   "source": [
    "Inną sztuczką wartą poznania jest użycie `defaultdict` z modułu `collections`. Użycie takie jak poniżej policzy ilość wystąpień danego imienia w całej długości napisu."
   ],
   "cell_type": "markdown",
   "metadata": {}
  },
  {
   "cell_type": "code",
   "execution_count": null,
   "metadata": {},
   "outputs": [],
   "source": [
    "from collections import defaultdict\n",
    "\n",
    "count = defaultdict(int)\n",
    "names_list = \"Mike John Mike Anna Mike John John Mike Mike Britney Smith Anna Smith\".split()\n",
    "for names in names_list:\n",
    "    count[names] +=1\n",
    "print(count)\n",
    "\n",
    "# source: https://stackabuse.com/introduction-to-pythons-collections-module/#thedefaultdict"
   ]
  },
  {
   "source": [
    "# 15. Gotowe algorytmy w języku python\n",
    "To jest sekcja z gotowymi i sprawdzonymi algorytmami na maturę (mogą się przydać na teorii podczas pisania pseudokodu!)"
   ],
   "cell_type": "markdown",
   "metadata": {}
  },
  {
   "source": [
    "## Sortowanie bomblkowe"
   ],
   "cell_type": "markdown",
   "metadata": {}
  },
  {
   "cell_type": "code",
   "execution_count": null,
   "metadata": {},
   "outputs": [],
   "source": [
    "def bubbleSort(arr): \n",
    "    n = len(arr) \n",
    "\n",
    "    for i in range(n-1):   \n",
    "        for j in range(0, n-i-1): \n",
    "            if arr[j] > arr[j+1] : \n",
    "                arr[j], arr[j+1] = arr[j+1], arr[j] "
   ]
  },
  {
   "source": [
    "## Ciąg fibonacciego"
   ],
   "cell_type": "markdown",
   "metadata": {}
  },
  {
   "source": [
    "Funkcja zwraca napis (str) zawierający n elementów ciągu fibonacciego - podejście nierekurencyjne"
   ],
   "cell_type": "markdown",
   "metadata": {}
  },
  {
   "cell_type": "code",
   "execution_count": null,
   "metadata": {},
   "outputs": [],
   "source": [
    "def fib(n):\n",
    "    ints = (0, 1)\n",
    "    a, b = ints\n",
    "    lst = [str(a),\".\"]\n",
    "    while n > 1:\n",
    "        lst.append(str(b))\n",
    "        a, b = b, a + b\n",
    "        n -= 1\n",
    "    return \"\".join(lst)"
   ]
  },
  {
   "source": [
    "Funkcja zwraca n-ty element ciągu fibonacciego (zamiast całego ciągu do n-tego elementu - podejście rekurencyjne"
   ],
   "cell_type": "markdown",
   "metadata": {}
  },
  {
   "cell_type": "code",
   "execution_count": null,
   "metadata": {},
   "outputs": [],
   "source": [
    "def fib_rec(n):\n",
    "    if n < 1: return 0\n",
    "    if n < 2: return 1\n",
    "    return fib_rec(n - 1) + fib_rec(n - 2)"
   ]
  },
  {
   "source": [
    "## Silnia - podejście rekurenycjne"
   ],
   "cell_type": "markdown",
   "metadata": {}
  },
  {
   "cell_type": "code",
   "execution_count": null,
   "metadata": {},
   "outputs": [],
   "source": [
    "def fac_r(n):\n",
    "   if n == 1:\n",
    "       return n\n",
    "   else:\n",
    "       return n*recur_factorial(n-1)"
   ]
  },
  {
   "source": [
    "# To już wszystko!\n",
    "## To już cały poradnik. Jak już było wspomniane - on jest jedynie zapoznaniem się ze składnią języka, ale aby dobrze napisać maturę należy przerobić arkusze samodzielnie, nabrać doświadczenia i obycia z językiem, a także umieć czytać błędy jakie przedstawia nam interpreter.\n",
    "# Powodzenia!"
   ],
   "cell_type": "markdown",
   "metadata": {}
  }
 ]
}