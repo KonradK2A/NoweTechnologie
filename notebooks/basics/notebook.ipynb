{
 "metadata": {
  "language_info": {
   "codemirror_mode": {
    "name": "ipython",
    "version": 3
   },
   "file_extension": ".py",
   "mimetype": "text/x-python",
   "name": "python",
   "nbconvert_exporter": "python",
   "pygments_lexer": "ipython3",
   "version": "3.8.0-final"
  },
  "orig_nbformat": 2,
  "kernelspec": {
   "name": "python3",
   "display_name": "Python 3.8.0 64-bit",
   "metadata": {
    "interpreter": {
     "hash": "645f5c37208834a29e3656dea293d1c7be59154e39495bef2a4889cee3968b1a"
    }
   }
  }
 },
 "nbformat": 4,
 "nbformat_minor": 2,
 "cells": [
  {
   "cell_type": "code",
   "execution_count": 30,
   "metadata": {},
   "outputs": [
    {
     "output_type": "execute_result",
     "data": {
      "text/plain": [
       "'\\nPython 3.8 notebook - podstawy pythona do matury rozszerzonej z informatyki\\n\\nPoniższy notatnik działa jak konsola języka python - wpisanie print() nie zawsze jest konieczne a poszczególne bloki mogą być wykonywane w dowolnej kolejności, co nie oznacza, że program w nich zapisany nie wywoła błędu jeśli przez przypadek uruchomimy go od końca, ale na potrzeby tego notatnika postaram się zapisywać każde ćwiczenie / demonstrację jako jeden blok, który jest niezależny od poprzedniego. \\nMożna dowolnie edytować kod, komentować jego fragmenty, zmieniać wartości zmiennych itp. lecz jedynie w celu nauki i eksperymentów we własnym zakresie.\\n\\nKonrad Kihan\\n'"
      ]
     },
     "metadata": {},
     "execution_count": 30
    }
   ],
   "source": [
    "\"\"\"\n",
    "Python 3.8 notebook - podstawy pythona do matury rozszerzonej z informatyki\n",
    "\n",
    "Poniższy notatnik działa jak konsola języka python - wpisanie print() nie zawsze jest konieczne a poszczególne bloki mogą być wykonywane w dowolnej kolejności, co nie oznacza, że program w nich zapisany nie wywoła błędu jeśli przez przypadek uruchomimy go od końca, ale na potrzeby tego notatnika postaram się zapisywać każde ćwiczenie / demonstrację jako jeden blok, który jest niezależny od poprzedniego (nie oznacza to jednak, że będzie należał do innego rodziału bądź części). \n",
    "Można dowolnie edytować kod, komentować jego fragmenty, zmieniać wartości zmiennych itp. lecz jedynie w celu nauki i eksperymentów we własnym zakresie.\n",
    "\n",
    "\n",
    "Rozdziały:\n",
    "1. Zmienne\n",
    "2. Funkcja print\n",
    "3. Operacje matematyczne\n",
    "4. Napisy\n",
    "5. Warunki - instrukcje warunkowe\n",
    "6. Struktury danych\n",
    "7. Pętla for\n",
    "8. Pętla while\n",
    "9. Funkcje\n",
    "10. Operacje na plikach\n",
    "11. Dodatkowe funkcje python\n",
    "12. Gotowe algorytmy \n",
    "Autor:\n",
    "Konrad Kihan\n",
    "\"\"\""
   ]
  },
  {
   "cell_type": "code",
   "execution_count": 17,
   "metadata": {},
   "outputs": [
    {
     "output_type": "stream",
     "name": "stdout",
     "text": [
      "Zmienna jest typu <class 'int'>\nZmienna jest typu <class 'str'>\nZmienna jest typu <class 'str'>\nZmienna jest typu <class 'float'>\nZmienna jest typu <class 'bool'>\n"
     ]
    }
   ],
   "source": [
    "\"\"\"\n",
    "1. Zmienne\n",
    "\n",
    "W pythonie wyróżniamy typy zmiennych:\n",
    "int (liczba całkowita)\n",
    "float (liczba zmiennoprzecinkowa)\n",
    "str (napis)\n",
    "bool (True/False)\n",
    "\n",
    "Zmienną definiujemy: nazwa = wartość\n",
    "Nazwa może zawierać litery, cyfry, znak '_', ale musi zaczynać się literą i nie może zaczynać się od cyfry\n",
    "Aby sprawdzić typ zmiennej używamy funkcji type()\n",
    "\n",
    "\"\"\"\n",
    "pierwsza = 1   \n",
    "print(f\"Zmienna jest typu {type(pierwsza)}\")\n",
    "\n",
    "drugaZmienna = \"2\"\n",
    "print(f\"Zmienna jest typu {type(drugaZmienna)}\")  # co tu się stało? Otóż COKOLWIEK zapisanego w cudzysłowiach będzie napisem - niezależnie od zawartości\n",
    "\n",
    "napis = \"abc\"\n",
    "print(f\"Zmienna jest typu {type(napis)}\")\n",
    "\n",
    "trzy_i_pol = 3.5\n",
    "print(f\"Zmienna jest typu {type(trzy_i_pol)}\")\n",
    "\n",
    "prawda = True\n",
    "print(f\"Zmienna jest typu {type(prawda)}\")"
   ]
  },
  {
   "cell_type": "code",
   "execution_count": 11,
   "metadata": {},
   "outputs": [
    {
     "output_type": "stream",
     "name": "stdout",
     "text": [
      "Prosty napis\nKolejny napis kilka wartości 123\nTrzeci napis Napis obok tego trzeciego\nOddzielne, wartości\n667-825-015\nMój numer\ttelefonu to, \n667\t824\t014! Zadzwonisz--do--mnie?\nDodajemy zmienne do napisu w print - to proste jak 123!!\n"
     ]
    }
   ],
   "source": [
    "\"\"\" \n",
    "2. Funkcja print()\n",
    "\n",
    "Funkcja zajmuje się wypisaniem informacji na ekran, wystarczy między nawiasy wpisać oczekiwaną zawartość.\n",
    "print() domyślnie kończy tekst 'enterem', który w pythonie oznaczany jest jako '\\n' (newline)\n",
    "\"\"\"\n",
    "print(\"Prosty napis\") # ten napis zostanie po prostu wypisany na ekran\n",
    "print(\"Kolejny\", \"napis\", \"kilka\", \"wartości\", 123)  # a ten zostanie napisany zaraz pod nim\n",
    "\n",
    "\n",
    "\"\"\" \n",
    "Jednakże możemy modyfikować to, czym zakończymy naszą linijkę tekstu - służy do tego parametr 'end'\n",
    "\"\"\"\n",
    "print(\"Trzeci napis\", end=\" \")  # spacja jako wartość parametru 'end' sprawi że print() poniżej wypisze swoją zawartośc w tej samej linijce\n",
    "print(\"Napis obok tego trzeciego\")\n",
    "\n",
    "\n",
    "\"\"\" \n",
    "Innym parametrem, istotnym dla print(), będącym tym opcjonalnym jest 'sep' który tak oddzieli różne wartości w print() (patrz druga linijka) podanym znakiem (domyślnie spacja)\n",
    "\"\"\"\n",
    "print(\"Oddzielne\", \"wartości\", sep=\", \")\n",
    "print(\"667\", 825, \"015\", sep=\"-\")\n",
    "\n",
    "\n",
    "\"\"\"\n",
    "Możliwości, które daje nam print możemy łączyć. Na przykład:\n",
    "\"\"\"\n",
    "print(\"Mój numer\", \"telefonu to, \\n667\", \"824\", \"014\", end=\"! \", sep=\"\\t\")  # '\\t' to tabulator - logika tak jak przy enterze '\\n'\n",
    "print(\"Zadzwonisz\", \"do\", \"mnie\", end=\"?\\n\", sep=\"--\")\n",
    "\n",
    "\n",
    "\"\"\"\n",
    "W print() możemy wypisać także zmienne - wystarczy wpisać ją między nawiasy. Co jeśli chcemy jednak wpisać tekst, a między niego zmienne?\n",
    "Do tego służy nam f-string\n",
    "\"\"\"\n",
    "x = \"zmienne\"\n",
    "y = 123\n",
    "print(f\"Dodajemy {x} do napisu w print - to proste jak {y}!!\")"
   ]
  },
  {
   "cell_type": "code",
   "execution_count": 20,
   "metadata": {},
   "outputs": [
    {
     "output_type": "stream",
     "name": "stdout",
     "text": [
      "27\n5\n750\n1.2\n1\n900\n5\n752\n"
     ]
    }
   ],
   "source": [
    "\"\"\"\n",
    "3. Operacje matematyczne\n",
    "\n",
    "Python obsługuje operacje matematyczne oraz kolejność działań.\n",
    "\"\"\"\n",
    "x = 2\n",
    "y = 25\n",
    "z = 30\n",
    "# poniżej zostaje wykonane JEDYNIE wypisanie wyniku, a nie przypisanie go do zmiennej\n",
    "print(x + y)    # dodawanie\n",
    "print(z - y)    # odejmowanie\n",
    "print(z * y)    # mnożenie\n",
    "print(z / y)    # dzielenie\n",
    "print(z // y)   # dzielenie bez reszty\n",
    "print(z ** x)   # potęgowanie\n",
    "print(z % y)    # reszta z dzielenia (modulo)\n",
    "print(x + y * z)    # kilka operacji w odpowiedniej kolejności"
   ]
  },
  {
   "cell_type": "code",
   "execution_count": 22,
   "metadata": {},
   "outputs": [
    {
     "output_type": "stream",
     "name": "stdout",
     "text": [
      "Wyniki to:\n\t27\n\t-5\n\t-150\n"
     ]
    }
   ],
   "source": [
    "\"\"\"\n",
    "Skrócone operacje matematyczne \n",
    "\n",
    "W Pythonie nie ma tzw. iteracji (i++), ale jest inny sposób na wykonywanie operacji matematycznych\n",
    "\"\"\"\n",
    "x = 2\n",
    "y = 25\n",
    "z = 30\n",
    "# poniżej musimy przypisać wynik do zmiennej przed jego wypisaniem\n",
    "x += y  # to samo co x = x + y\n",
    "y -= z  # to samo co y = y - z\n",
    "z *= y  # to samo co z = z * y\n",
    "print(f\"Wyniki to:\", x, y, z, sep=\"\\n\\t\")"
   ]
  },
  {
   "cell_type": "code",
   "execution_count": 23,
   "metadata": {},
   "outputs": [
    {
     "output_type": "stream",
     "name": "stdout",
     "text": [
      "HejHejHejHejHejHejHejHejHejHej\nAla ma kotka a kot ma AlęHej\n"
     ]
    }
   ],
   "source": [
    "\"\"\"\n",
    "4. Napisy\n",
    "Python oferuje całą masę operacji na napisach, które mogą przydać się na maturze. Każdy napis ma typ 'str', oraz jest 'immutable' to znaczy, że wykonując na nim jakąś operację MUSIMY przypisać jej wynik do zmiennej aby ją zapisać.\n",
    "Do ich prezentacji potrzebować będziemy tych dwóch napisów wyjściowych. \n",
    "\"\"\"\n",
    "napis = \"Ala ma kotka a kot ma Alę\"\n",
    "hej = \"Hej\"\n",
    "\n",
    "\"\"\"\n",
    "Napisy w pythonie możemy do siebie dodawać oraz mnożyć przez LICZBY CAŁKOWITE. Na przykład:\n",
    "\"\"\"\n",
    "hej10 = hej * 10\n",
    "print(hej10)\n",
    "\n",
    "dwa_napisy = napis + hej    # to samo co 'napis += hej'\n",
    "print(dwa_napisy)"
   ]
  },
  {
   "cell_type": "code",
   "execution_count": 29,
   "metadata": {},
   "outputs": [
    {
     "output_type": "stream",
     "name": "stdout",
     "text": [
      "Ala ma kotka a kot ma alę\n"
     ]
    }
   ],
   "source": [
    "napis = \"ala ma kotka a kot ma alę\"\n",
    "hej = \"HeJkA\"\n",
    "cos = \"     Witam wszystkich Bardzo Serdecznie  \"\n",
    "\n",
    "\"\"\"\n",
    "Pozwoliłem sobie zmienić watości zmiennych 'napis' i 'hej' aby lepiej pasowały do eksperymentów\n",
    "Oczywiście to nie koniec możliwości pythona - metod przewidzianych dla napisów jest sporo (https://docs.python.org/3.8/library/stdtypes.html#textseq), jednak my zajmiemy się tylko tymi najważniejszymi.\n",
    "\"\"\"\n",
    "### NOTE: aby wyświetlić działanie konkretnej metody należy samodzielnie użyź instrukcji print()  ###\n",
    "\n",
    "n1 = napis.capitalize()     # zamienia pierwszy  znak napisu na wielką literę\n",
    "\n",
    "n2 = napis.count(\"a\")     # zwraca ile razy podana wartośc występuje w napisie\n",
    "\n",
    "n3 = hej.endswith(\"z\")  # zwraca True|False zależnie od tego czy napis kończy się podaną wartością\n",
    "\n",
    "n4 = hej.startswith(\"H\")    # zwraca True|False zależnie od tego czy napis zaczyna się podaną wartością\n",
    "\n",
    "n5 = cos.strip()    # usuwa znaki białe z początku i końca napisu (alternatywne metody: 'lstrip' - z lewej, 'rstrip' - z prawej)\n",
    "\n",
    "n6 = napis.index(\"m\")   # znajduje pierwsze wystąpienie podanego znaku\n",
    "\n",
    "n7 = napis.replace(\"a\", \"4\")    # zwraca napis z zamienionymi wartościami .replace(stare, nowe)\n",
    "\n",
    "n8 = napis.split()  # rozdziela napis na listę (struktura danych python), przyjmuje dodatkowy parametr 'sep' - określający separator - domyślnie spacja\n",
    "\n",
    "n9 = hej.upper()    # zwraca napis ze wszystkimi elementami WIELKIMI LITERAMI\n",
    "\n",
    "n10 = hej.lower()   # zwraca napis ze wszystkimi elementami małymi literami\n",
    "\n",
    "n11 = hej.swapcase()    # zamienia WIELKIE litery na małe oraz małe na WIELKIE\n",
    "\n",
    "\n",
    "### Strefa eksperymentów 😉 ###\n",
    "print(n1)\n"
   ]
  },
  {
   "cell_type": "code",
   "execution_count": null,
   "metadata": {},
   "outputs": [],
   "source": [
    "\"\"\"\n",
    ". Struktury danych\n",
    "Python przewiduje kilka struktur danych:\n",
    "    1 list\n",
    "    2 set\n",
    "    3 tuple\n",
    "    4 dict\n",
    "\n",
    "Najbardziej podstawową strukturą danych jest \n",
    "\"\"\""
   ]
  }
 ]
}